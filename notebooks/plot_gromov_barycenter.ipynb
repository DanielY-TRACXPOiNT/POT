{
 "cells": [
  {
   "cell_type": "code",
   "execution_count": 1,
   "metadata": {
    "collapsed": false
   },
   "outputs": [],
   "source": [
    "%matplotlib inline"
   ]
  },
  {
   "cell_type": "markdown",
   "metadata": {},
   "source": [
    "\n",
    "# Gromov-Wasserstein Barycenter example\n",
    "\n",
    "\n",
    "This example is designed to show how to use the Gromov-Wasserstein distance\n",
    "computation in POT.\n",
    "\n"
   ]
  },
  {
   "cell_type": "code",
   "execution_count": 2,
   "metadata": {
    "collapsed": false
   },
   "outputs": [],
   "source": [
    "# Author: Erwan Vautier <erwan.vautier@gmail.com>\r\n",
    "#         Nicolas Courty <ncourty@irisa.fr>\r\n",
    "#\r\n",
    "# License: MIT License\r\n",
    "\r\n",
    "\r\n",
    "import numpy as np\r\n",
    "import scipy as sp\r\n",
    "\r\n",
    "import scipy.ndimage as spi\r\n",
    "import matplotlib.pylab as pl\r\n",
    "from sklearn import manifold\r\n",
    "from sklearn.decomposition import PCA\r\n",
    "\r\n",
    "import ot"
   ]
  },
  {
   "cell_type": "markdown",
   "metadata": {},
   "source": [
    "Smacof MDS\r\n",
    " ----------\r\n",
    "\r\n",
    " This function allows to find an embedding of points given a dissimilarity matrix\r\n",
    " that will be given by the output of the algorithm\r\n",
    "\n"
   ]
  },
  {
   "cell_type": "code",
   "execution_count": 3,
   "metadata": {
    "collapsed": false
   },
   "outputs": [],
   "source": [
    "def smacof_mds(C, dim, max_iter=3000, eps=1e-9):\r\n",
    "    \"\"\"\r\n",
    "    Returns an interpolated point cloud following the dissimilarity matrix C\r\n",
    "    using SMACOF multidimensional scaling (MDS) in specific dimensionned\r\n",
    "    target space\r\n",
    "\r\n",
    "    Parameters\r\n",
    "    ----------\r\n",
    "    C : ndarray, shape (ns, ns)\r\n",
    "        dissimilarity matrix\r\n",
    "    dim : int\r\n",
    "          dimension of the targeted space\r\n",
    "    max_iter :  int\r\n",
    "        Maximum number of iterations of the SMACOF algorithm for a single run\r\n",
    "    eps : float\r\n",
    "        relative tolerance w.r.t stress to declare converge\r\n",
    "\r\n",
    "    Returns\r\n",
    "    -------\r\n",
    "    npos : ndarray, shape (R, dim)\r\n",
    "           Embedded coordinates of the interpolated point cloud (defined with\r\n",
    "           one isometry)\r\n",
    "    \"\"\"\r\n",
    "\r\n",
    "    rng = np.random.RandomState(seed=3)\r\n",
    "\r\n",
    "    mds = manifold.MDS(\r\n",
    "        dim,\r\n",
    "        max_iter=max_iter,\r\n",
    "        eps=1e-9,\r\n",
    "        dissimilarity='precomputed',\r\n",
    "        n_init=1)\r\n",
    "    pos = mds.fit(C).embedding_\r\n",
    "\r\n",
    "    nmds = manifold.MDS(\r\n",
    "        2,\r\n",
    "        max_iter=max_iter,\r\n",
    "        eps=1e-9,\r\n",
    "        dissimilarity=\"precomputed\",\r\n",
    "        random_state=rng,\r\n",
    "        n_init=1)\r\n",
    "    npos = nmds.fit_transform(C, init=pos)\r\n",
    "\r\n",
    "    return npos"
   ]
  },
  {
   "cell_type": "markdown",
   "metadata": {},
   "source": [
    "Data preparation\r\n",
    " ----------------\r\n",
    "\r\n",
    " The four distributions are constructed from 4 simple images\r\n",
    "\n"
   ]
  },
  {
   "cell_type": "code",
   "execution_count": 4,
   "metadata": {
    "collapsed": false
   },
   "outputs": [],
   "source": [
    "def im2mat(I):\r\n",
    "    \"\"\"Converts and image to matrix (one pixel per line)\"\"\"\r\n",
    "    return I.reshape((I.shape[0] * I.shape[1], I.shape[2]))\r\n",
    "\r\n",
    "\r\n",
    "square = spi.imread('../data/square.png').astype(np.float64)[:, :, 2] / 256\r\n",
    "cross = spi.imread('../data/cross.png').astype(np.float64)[:, :, 2] / 256\r\n",
    "triangle = spi.imread('../data/triangle.png').astype(np.float64)[:, :, 2] / 256\r\n",
    "star = spi.imread('../data/star.png').astype(np.float64)[:, :, 2] / 256\r\n",
    "\r\n",
    "shapes = [square, cross, triangle, star]\r\n",
    "\r\n",
    "S = 4\r\n",
    "xs = [[] for i in range(S)]\r\n",
    "\r\n",
    "\r\n",
    "for nb in range(4):\r\n",
    "    for i in range(8):\r\n",
    "        for j in range(8):\r\n",
    "            if shapes[nb][i, j] < 0.95:\r\n",
    "                xs[nb].append([j, 8 - i])\r\n",
    "\r\n",
    "xs = np.array([np.array(xs[0]), np.array(xs[1]),\r\n",
    "               np.array(xs[2]), np.array(xs[3])])"
   ]
  },
  {
   "cell_type": "markdown",
   "metadata": {},
   "source": [
    "Barycenter computation\r\n",
    "----------------------\r\n",
    "\n"
   ]
  },
  {
   "cell_type": "code",
   "execution_count": 5,
   "metadata": {
    "collapsed": false
   },
   "outputs": [],
   "source": [
    "ns = [len(xs[s]) for s in range(S)]\r\n",
    "n_samples = 30\r\n",
    "\r\n",
    "\"\"\"Compute all distances matrices for the four shapes\"\"\"\r\n",
    "Cs = [sp.spatial.distance.cdist(xs[s], xs[s]) for s in range(S)]\r\n",
    "Cs = [cs / cs.max() for cs in Cs]\r\n",
    "\r\n",
    "ps = [ot.unif(ns[s]) for s in range(S)]\r\n",
    "p = ot.unif(n_samples)\r\n",
    "\r\n",
    "\r\n",
    "lambdast = [[float(i) / 3, float(3 - i) / 3] for i in [1, 2]]\r\n",
    "\r\n",
    "Ct01 = [0 for i in range(2)]\r\n",
    "for i in range(2):\r\n",
    "    Ct01[i] = ot.gromov.gromov_barycenters(n_samples, [Cs[0], Cs[1]],\r\n",
    "                                           [ps[0], ps[1]\r\n",
    "                                            ], p, lambdast[i], 'square_loss', 5e-4,\r\n",
    "                                           max_iter=100, tol=1e-3)\r\n",
    "\r\n",
    "Ct02 = [0 for i in range(2)]\r\n",
    "for i in range(2):\r\n",
    "    Ct02[i] = ot.gromov.gromov_barycenters(n_samples, [Cs[0], Cs[2]],\r\n",
    "                                           [ps[0], ps[2]\r\n",
    "                                            ], p, lambdast[i], 'square_loss', 5e-4,\r\n",
    "                                           max_iter=100, tol=1e-3)\r\n",
    "\r\n",
    "Ct13 = [0 for i in range(2)]\r\n",
    "for i in range(2):\r\n",
    "    Ct13[i] = ot.gromov.gromov_barycenters(n_samples, [Cs[1], Cs[3]],\r\n",
    "                                           [ps[1], ps[3]\r\n",
    "                                            ], p, lambdast[i], 'square_loss', 5e-4,\r\n",
    "                                           max_iter=100, tol=1e-3)\r\n",
    "\r\n",
    "Ct23 = [0 for i in range(2)]\r\n",
    "for i in range(2):\r\n",
    "    Ct23[i] = ot.gromov.gromov_barycenters(n_samples, [Cs[2], Cs[3]],\r\n",
    "                                           [ps[2], ps[3]\r\n",
    "                                            ], p, lambdast[i], 'square_loss', 5e-4,\r\n",
    "                                           max_iter=100, tol=1e-3)"
   ]
  },
  {
   "cell_type": "markdown",
   "metadata": {},
   "source": [
    "Visualization\r\n",
    " -------------\r\n",
    "\r\n",
    " The PCA helps in getting consistency between the rotations\r\n",
    "\n"
   ]
  },
  {
   "cell_type": "code",
   "execution_count": 6,
   "metadata": {
    "collapsed": false
   },
   "outputs": [
    {
     "data": {
      "text/plain": [
       "<matplotlib.collections.PathCollection at 0x7fd293df1e50>"
      ]
     },
     "execution_count": 6,
     "metadata": {},
     "output_type": "execute_result"
    },
    {
     "data": {
      "image/png": "[encoded data removed]",
      "text/plain": [
       "<matplotlib.figure.Figure at 0x7fd294476ed0>"
      ]
     },
     "metadata": {},
     "output_type": "display_data"
    }
   ],
   "source": [
    "clf = PCA(n_components=2)\r\n",
    "npos = [0, 0, 0, 0]\r\n",
    "npos = [smacof_mds(Cs[s], 2) for s in range(S)]\r\n",
    "\r\n",
    "npost01 = [0, 0]\r\n",
    "npost01 = [smacof_mds(Ct01[s], 2) for s in range(2)]\r\n",
    "npost01 = [clf.fit_transform(npost01[s]) for s in range(2)]\r\n",
    "\r\n",
    "npost02 = [0, 0]\r\n",
    "npost02 = [smacof_mds(Ct02[s], 2) for s in range(2)]\r\n",
    "npost02 = [clf.fit_transform(npost02[s]) for s in range(2)]\r\n",
    "\r\n",
    "npost13 = [0, 0]\r\n",
    "npost13 = [smacof_mds(Ct13[s], 2) for s in range(2)]\r\n",
    "npost13 = [clf.fit_transform(npost13[s]) for s in range(2)]\r\n",
    "\r\n",
    "npost23 = [0, 0]\r\n",
    "npost23 = [smacof_mds(Ct23[s], 2) for s in range(2)]\r\n",
    "npost23 = [clf.fit_transform(npost23[s]) for s in range(2)]\r\n",
    "\r\n",
    "\r\n",
    "fig = pl.figure(figsize=(10, 10))\r\n",
    "\r\n",
    "ax1 = pl.subplot2grid((4, 4), (0, 0))\r\n",
    "pl.xlim((-1, 1))\r\n",
    "pl.ylim((-1, 1))\r\n",
    "ax1.scatter(npos[0][:, 0], npos[0][:, 1], color='r')\r\n",
    "\r\n",
    "ax2 = pl.subplot2grid((4, 4), (0, 1))\r\n",
    "pl.xlim((-1, 1))\r\n",
    "pl.ylim((-1, 1))\r\n",
    "ax2.scatter(npost01[1][:, 0], npost01[1][:, 1], color='b')\r\n",
    "\r\n",
    "ax3 = pl.subplot2grid((4, 4), (0, 2))\r\n",
    "pl.xlim((-1, 1))\r\n",
    "pl.ylim((-1, 1))\r\n",
    "ax3.scatter(npost01[0][:, 0], npost01[0][:, 1], color='b')\r\n",
    "\r\n",
    "ax4 = pl.subplot2grid((4, 4), (0, 3))\r\n",
    "pl.xlim((-1, 1))\r\n",
    "pl.ylim((-1, 1))\r\n",
    "ax4.scatter(npos[1][:, 0], npos[1][:, 1], color='r')\r\n",
    "\r\n",
    "ax5 = pl.subplot2grid((4, 4), (1, 0))\r\n",
    "pl.xlim((-1, 1))\r\n",
    "pl.ylim((-1, 1))\r\n",
    "ax5.scatter(npost02[1][:, 0], npost02[1][:, 1], color='b')\r\n",
    "\r\n",
    "ax6 = pl.subplot2grid((4, 4), (1, 3))\r\n",
    "pl.xlim((-1, 1))\r\n",
    "pl.ylim((-1, 1))\r\n",
    "ax6.scatter(npost13[1][:, 0], npost13[1][:, 1], color='b')\r\n",
    "\r\n",
    "ax7 = pl.subplot2grid((4, 4), (2, 0))\r\n",
    "pl.xlim((-1, 1))\r\n",
    "pl.ylim((-1, 1))\r\n",
    "ax7.scatter(npost02[0][:, 0], npost02[0][:, 1], color='b')\r\n",
    "\r\n",
    "ax8 = pl.subplot2grid((4, 4), (2, 3))\r\n",
    "pl.xlim((-1, 1))\r\n",
    "pl.ylim((-1, 1))\r\n",
    "ax8.scatter(npost13[0][:, 0], npost13[0][:, 1], color='b')\r\n",
    "\r\n",
    "ax9 = pl.subplot2grid((4, 4), (3, 0))\r\n",
    "pl.xlim((-1, 1))\r\n",
    "pl.ylim((-1, 1))\r\n",
    "ax9.scatter(npos[2][:, 0], npos[2][:, 1], color='r')\r\n",
    "\r\n",
    "ax10 = pl.subplot2grid((4, 4), (3, 1))\r\n",
    "pl.xlim((-1, 1))\r\n",
    "pl.ylim((-1, 1))\r\n",
    "ax10.scatter(npost23[1][:, 0], npost23[1][:, 1], color='b')\r\n",
    "\r\n",
    "ax11 = pl.subplot2grid((4, 4), (3, 2))\r\n",
    "pl.xlim((-1, 1))\r\n",
    "pl.ylim((-1, 1))\r\n",
    "ax11.scatter(npost23[0][:, 0], npost23[0][:, 1], color='b')\r\n",
    "\r\n",
    "ax12 = pl.subplot2grid((4, 4), (3, 3))\r\n",
    "pl.xlim((-1, 1))\r\n",
    "pl.ylim((-1, 1))\r\n",
    "ax12.scatter(npos[3][:, 0], npos[3][:, 1], color='r')"
   ]
  }
 ],
 "metadata": {
  "kernelspec": {
   "display_name": "Python 2",
   "language": "python",
   "name": "python2"
  },
  "language_info": {
   "codemirror_mode": {
    "name": "ipython",
    "version": 2
   },
   "file_extension": ".py",
   "mimetype": "text/x-python",
   "name": "python",
   "nbconvert_exporter": "python",
   "pygments_lexer": "ipython2",
   "version": "2.7.12"
  }
 },
 "nbformat": 4,
 "nbformat_minor": 0
}
